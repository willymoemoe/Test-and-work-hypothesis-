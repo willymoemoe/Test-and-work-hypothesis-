{
 "cells": [
  {
   "cell_type": "code",
   "execution_count": 5,
   "id": "f94fdfe7-821b-4a5e-80a2-c190d493ccc6",
   "metadata": {},
   "outputs": [
    {
     "name": "stdout",
     "output_type": "stream",
     "text": [
      "t-statistic: -6.584071688552607\n",
      "p-value: 3.484803093041131e-06\n",
      "We reject the null hypothesis: there is a significant difference between the groups.\n"
     ]
    }
   ],
   "source": [
    "import numpy as np\n",
    "from scipy import stats\n",
    "\n",
    "# Example data: heights of people in Group A (in cm)\n",
    "group_a = np.array([165, 170, 167, 178, 176, 161, 169, 173, 175, 172])\n",
    "\n",
    "# Example data: heights of people in Group B (in cm)\n",
    "group_b = np.array([182, 180, 185, 187, 191, 183, 179, 188, 186, 181])\n",
    "\n",
    "# Perform the t-test for independent samples\n",
    "t_statistic, p_value = stats.ttest_ind(group_a, group_b)\n",
    "\n",
    "# Print the results\n",
    "print(\"t-statistic:\", t_statistic)\n",
    "print(\"p-value:\", p_value)\n",
    "\n",
    "# Set your significance level (commonly 0.05)\n",
    "alpha = 0.05\n",
    "\n",
    "# Test the hypothesis\n",
    "if p_value < alpha:\n",
    "    print(\"We reject the null hypothesis: there is a significant difference between the groups.\")\n",
    "else:\n",
    "    print(\"We fail to reject the null hypothesis: there is no significant difference between the groups.\")\n"
   ]
  },
  {
   "cell_type": "code",
   "execution_count": 6,
   "id": "f7daa837-0416-4ca1-bdd5-a900d6562a55",
   "metadata": {},
   "outputs": [
    {
     "name": "stdout",
     "output_type": "stream",
     "text": [
      "t-statistic: 9.486832980505138\n",
      "p-value: 5.537727791862317e-06\n"
     ]
    }
   ],
   "source": [
    "import numpy as np\n",
    "from scipy import stats\n",
    "\n",
    "before_diet = np.array([85, 88, 75, 91, 68, 73, 79, 87, 90, 81])\n",
    "after_diet = np.array([80, 84, 71, 85, 66, 69, 76, 82, 85, 79])\n",
    "\n",
    "t_statistic, p_value = stats.ttest_rel(before_diet, after_diet)\n",
    "print(\"t-statistic:\", t_statistic)\n",
    "print(\"p-value:\", p_value)\n"
   ]
  },
  {
   "cell_type": "code",
   "execution_count": 7,
   "id": "44221c9b-7872-43b2-917f-be6fdc1d7cc8",
   "metadata": {},
   "outputs": [
    {
     "name": "stdout",
     "output_type": "stream",
     "text": [
      "Chi2 Statistic: 0.885086155674391\n",
      "P-value: 0.6424006671407055\n",
      "Degrees of Freedom: 2\n"
     ]
    }
   ],
   "source": [
    "import numpy as np\n",
    "from scipy import stats\n",
    "\n",
    "# Observed frequencies\n",
    "observed = np.array([\n",
    "    [30, 40, 50],  # Male frequencies\n",
    "    [25, 45, 55]   # Female frequencies\n",
    "])\n",
    "\n",
    "chi2_statistic, p_value, degrees_of_freedom, expected = stats.chi2_contingency(observed)\n",
    "print(\"Chi2 Statistic:\", chi2_statistic)\n",
    "print(\"P-value:\", p_value)\n",
    "print(\"Degrees of Freedom:\", degrees_of_freedom)\n"
   ]
  },
  {
   "cell_type": "code",
   "execution_count": 8,
   "id": "f6fd8017-bbf8-4512-a335-4b24e7693e60",
   "metadata": {},
   "outputs": [
    {
     "name": "stdout",
     "output_type": "stream",
     "text": [
      "F-Statistic: 0.05753181414619709\n",
      "P-value: 0.9442072692288392\n"
     ]
    }
   ],
   "source": [
    "import numpy as np\n",
    "from scipy import stats\n",
    "\n",
    "school_a = np.array([75, 80, 85, 90, 95, 100, 78, 88, 92, 96])\n",
    "school_b = np.array([76, 82, 86, 89, 94, 98, 79, 81, 91, 97])\n",
    "school_c = np.array([78, 84, 88, 92, 96, 95, 77, 83, 93, 99])\n",
    "\n",
    "f_statistic, p_value = stats.f_oneway(school_a, school_b, school_c)\n",
    "print(\"F-Statistic:\", f_statistic)\n",
    "print(\"P-value:\", p_value)\n"
   ]
  },
  {
   "cell_type": "code",
   "execution_count": null,
   "id": "b791471a-4984-40c4-957d-9afa53ec02e4",
   "metadata": {},
   "outputs": [],
   "source": []
  }
 ],
 "metadata": {
  "kernelspec": {
   "display_name": "anaconda-2022.05-py39",
   "language": "python",
   "name": "conda-env-anaconda-2022.05-py39-py"
  },
  "language_info": {
   "codemirror_mode": {
    "name": "ipython",
    "version": 3
   },
   "file_extension": ".py",
   "mimetype": "text/x-python",
   "name": "python",
   "nbconvert_exporter": "python",
   "pygments_lexer": "ipython3",
   "version": "3.9.12"
  }
 },
 "nbformat": 4,
 "nbformat_minor": 5
}
